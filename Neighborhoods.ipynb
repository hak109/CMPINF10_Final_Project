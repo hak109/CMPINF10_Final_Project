{
 "cells": [
  {
   "cell_type": "markdown",
   "id": "human-puppy",
   "metadata": {},
   "source": [
    "# CMPINF 0010 Final Project\n",
    "---"
   ]
  },
  {
   "cell_type": "markdown",
   "id": "falling-beauty",
   "metadata": {},
   "source": [
    "In this final project, our team has been tasked to find the best neighborhood in Pittsburgh through our own metrics."
   ]
  },
  {
   "cell_type": "markdown",
   "id": "equal-organ",
   "metadata": {},
   "source": [
    "## Metric 1 - Arrest/Crime Data"
   ]
  },
  {
   "cell_type": "markdown",
   "id": "macro-tennis",
   "metadata": {},
   "source": [
    "## Metric 2 - "
   ]
  },
  {
   "cell_type": "markdown",
   "id": "sublime-beach",
   "metadata": {},
   "source": [
    "## Metric 3 - "
   ]
  },
  {
   "cell_type": "markdown",
   "id": "scientific-carbon",
   "metadata": {},
   "source": [
    "## Conclusion"
   ]
  }
 ],
 "metadata": {
  "kernelspec": {
   "display_name": "Python 3",
   "language": "python",
   "name": "python3"
  },
  "language_info": {
   "codemirror_mode": {
    "name": "ipython",
    "version": 3
   },
   "file_extension": ".py",
   "mimetype": "text/x-python",
   "name": "python",
   "nbconvert_exporter": "python",
   "pygments_lexer": "ipython3",
   "version": "3.8.5"
  }
 },
 "nbformat": 4,
 "nbformat_minor": 5
}
