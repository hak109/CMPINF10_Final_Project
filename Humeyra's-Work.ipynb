{
 "cells": [
  {
   "cell_type": "code",
   "execution_count": 2,
   "id": "social-tracy",
   "metadata": {},
   "outputs": [
    {
     "ename": "NameError",
     "evalue": "name 'pd' is not defined",
     "output_type": "error",
     "traceback": [
      "\u001b[1;31m---------------------------------------------------------------------------\u001b[0m",
      "\u001b[1;31mNameError\u001b[0m                                 Traceback (most recent call last)",
      "\u001b[1;32m<ipython-input-2-87def271fdbc>\u001b[0m in \u001b[0;36m<module>\u001b[1;34m\u001b[0m\n\u001b[0;32m      1\u001b[0m \u001b[1;31m#tract is the number of the tract\u001b[0m\u001b[1;33m\u001b[0m\u001b[1;33m\u001b[0m\u001b[1;33m\u001b[0m\u001b[0m\n\u001b[0;32m      2\u001b[0m \u001b[1;31m#pre1950 represents the percent of homes in each census tract that were built on or before 1950\u001b[0m\u001b[1;33m\u001b[0m\u001b[1;33m\u001b[0m\u001b[1;33m\u001b[0m\u001b[0m\n\u001b[1;32m----> 3\u001b[1;33m \u001b[0molder_house_data\u001b[0m \u001b[1;33m=\u001b[0m \u001b[0mpd\u001b[0m\u001b[1;33m.\u001b[0m\u001b[0mread_csv\u001b[0m\u001b[1;33m(\u001b[0m\u001b[1;34m\"CSVs/pre1950housing.csv\"\u001b[0m\u001b[1;33m)\u001b[0m\u001b[1;33m\u001b[0m\u001b[1;33m\u001b[0m\u001b[0m\n\u001b[0m\u001b[0;32m      4\u001b[0m \u001b[0molder_house_data\u001b[0m\u001b[1;33m.\u001b[0m\u001b[0mhead\u001b[0m\u001b[1;33m(\u001b[0m\u001b[1;33m)\u001b[0m\u001b[1;33m\u001b[0m\u001b[1;33m\u001b[0m\u001b[0m\n",
      "\u001b[1;31mNameError\u001b[0m: name 'pd' is not defined"
     ]
    }
   ],
   "source": [
    "#tract is the number of the tract \n",
    "#pre1950 represents the percent of homes in each census tract that were built on or before 1950\n",
    "older_house_data = pd.read_csv(\"CSVs/pre1950housing.csv\")\n",
    "older_house_data.head()"
   ]
  },
  {
   "cell_type": "code",
   "execution_count": null,
   "id": "rational-province",
   "metadata": {},
   "outputs": [],
   "source": []
  },
  {
   "cell_type": "code",
   "execution_count": null,
   "id": "strange-demonstration",
   "metadata": {},
   "outputs": [],
   "source": [
    "older_house_data['TRACT'].dtypes"
   ]
  },
  {
   "cell_type": "code",
   "execution_count": null,
   "id": "agreed-health",
   "metadata": {},
   "outputs": [],
   "source": [
    "#neighborhoods corresponding the tract numbers\n",
    "older_house_data = pd.read_csv(\"CSVs/Pittsburgh_Census_Tracts_2010.csv\")\n",
    "older_house_data.head()"
   ]
  },
  {
   "cell_type": "code",
   "execution_count": null,
   "id": "dramatic-wyoming",
   "metadata": {},
   "outputs": [],
   "source": [
    "older_house_data['Neighborhood'] = older_house_data['Neighborhood'].astype('string') \n",
    "#older_house_data['Neighborhood'].dtypes\n",
    "older_house_data['Census Tracts'] = older_house_data['Census Tracts'].astype('string') \n",
    "#older_house_data['Census Tracts'].dtypes"
   ]
  },
  {
   "cell_type": "code",
   "execution_count": null,
   "id": "exciting-pillow",
   "metadata": {},
   "outputs": [],
   "source": [
    "older_house_data['Census Tracts'] = older_house_data['Census Tracts'].str.split(', ')\n",
    "older_house_data.explode('Census Tracts').reset_index(drop=True)\n",
    "older_house_data.to_csv(\"split.csv\", index=False)"
   ]
  },
  {
   "cell_type": "code",
   "execution_count": null,
   "id": "binding-sudan",
   "metadata": {},
   "outputs": [],
   "source": [
    "#the data on percent venous confirmed elevated blood lead levels (EBLLs)(≥5 μg/dL)\n",
    "#for Allegheny County children less than 6 years of ageby assigned geography for 2015-2019\n",
    "lead_data = pd.read_csv(\"CSVs/Blood_Lead_Level_Rates.csv\")\n",
    "lead_data.head()"
   ]
  }
 ],
 "metadata": {
  "kernelspec": {
   "display_name": "Python 3",
   "language": "python",
   "name": "python3"
  },
  "language_info": {
   "codemirror_mode": {
    "name": "ipython",
    "version": 3
   },
   "file_extension": ".py",
   "mimetype": "text/x-python",
   "name": "python",
   "nbconvert_exporter": "python",
   "pygments_lexer": "ipython3",
   "version": "3.8.5"
  }
 },
 "nbformat": 4,
 "nbformat_minor": 5
}
