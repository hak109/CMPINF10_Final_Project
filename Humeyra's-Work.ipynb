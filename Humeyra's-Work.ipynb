{
 "cells": [
  {
   "cell_type": "code",
   "execution_count": null,
   "id": "indirect-arrangement",
   "metadata": {},
   "outputs": [],
   "source": [
    "#tract is the number of the tract \n",
    "#pre1950 represents the percent of homes in each census tract that were built on or before 1950\n",
    "older_house_data = pd.read_csv(\"CSVs/pre1950housing.csv\")\n",
    "older_house_data.head()\n"
   ]
  },
  {
   "cell_type": "code",
   "execution_count": null,
   "id": "actual-serum",
   "metadata": {},
   "outputs": [],
   "source": []
  },
  {
   "cell_type": "code",
   "execution_count": null,
   "id": "intermediate-involvement",
   "metadata": {},
   "outputs": [],
   "source": [
    "older_house_data['TRACT'].dtypes"
   ]
  },
  {
   "cell_type": "code",
   "execution_count": null,
   "id": "humanitarian-weekend",
   "metadata": {},
   "outputs": [],
   "source": [
    "#neighborhoods corresponding the tract numbers\n",
    "older_house_data = pd.read_csv(\"CSVs/Pittsburgh_Census_Tracts_2010.csv\")\n",
    "older_house_data.head()"
   ]
  },
  {
   "cell_type": "code",
   "execution_count": null,
   "id": "trying-concord",
   "metadata": {},
   "outputs": [],
   "source": [
    "older_house_data['Neighborhood'] = older_house_data['Neighborhood'].astype('string') \n",
    "#older_house_data['Neighborhood'].dtypes\n",
    "older_house_data['Census Tracts'] = older_house_data['Census Tracts'].astype('string') \n",
    "#older_house_data['Census Tracts'].dtypes"
   ]
  },
  {
   "cell_type": "code",
   "execution_count": null,
   "id": "frequent-stocks",
   "metadata": {},
   "outputs": [],
   "source": [
    "older_house_data['Census Tracts'] = older_house_data['Census Tracts'].str.split(', ')\n",
    "older_house_data.explode('Census Tracts').reset_index(drop=True)\n",
    "older_house_data.to_csv(\"split.csv\", index=False)"
   ]
  },
  {
   "cell_type": "code",
   "execution_count": null,
   "id": "binary-tumor",
   "metadata": {},
   "outputs": [],
   "source": [
    "#the data on percent venous confirmed elevated blood lead levels (EBLLs)(≥5 μg/dL)\n",
    "#for Allegheny County children less than 6 years of ageby assigned geography for 2015-2019\n",
    "lead_data = pd.read_csv(\"CSVs/Blood_Lead_Level_Rates.csv\")\n",
    "lead_data.head()"
   ]
  },
  {
   "cell_type": "code",
   "execution_count": null,
   "id": "piano-female",
   "metadata": {},
   "outputs": [],
   "source": []
  }
 ],
 "metadata": {
  "kernelspec": {
   "display_name": "Python 3",
   "language": "python",
   "name": "python3"
  },
  "language_info": {
   "codemirror_mode": {
    "name": "ipython",
    "version": 3
   },
   "file_extension": ".py",
   "mimetype": "text/x-python",
   "name": "python",
   "nbconvert_exporter": "python",
   "pygments_lexer": "ipython3",
   "version": "3.8.5"
  }
 },
 "nbformat": 4,
 "nbformat_minor": 5
}
